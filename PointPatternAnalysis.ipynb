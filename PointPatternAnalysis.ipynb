{
 "cells": [
  {
   "cell_type": "code",
   "execution_count": 38,
   "metadata": {
    "collapsed": false
   },
   "outputs": [
    {
     "name": "stdout",
     "output_type": "stream",
     "text": [
      "The entire dataset has an average nearest neighbor distance of 0.000240361352928\n",
      "The entire dataset is significant\n",
      "\n",
      "Elements that occurred on 9/13/2014 have an average nn distance of 0.00256619518064\n",
      "The date 9/13/2014 is significant\n",
      "\n",
      "Elements involving animal bites have an average nn distance of 0.0126135423802\n",
      "The animal bite issue is significant\n"
     ]
    }
   ],
   "source": [
    "from src.point_pattern import PointPattern\n",
    "from src.point import Point\n",
    "import pysal as ps\n",
    "\n",
    "shapefile = ps.open(ps.examples.get_path('new_haven_merged.shp'))\n",
    "dbf = ps.open(ps.examples.get_path('new_haven_merged.dbf'))\n",
    "\n",
    "points= []\n",
    "i = 0\n",
    "for geometry, attributes in zip(shapefile, dbf):\n",
    "    i += 1\n",
    "    points.append(Point(\n",
    "            geometry[0], \n",
    "            geometry[1], \n",
    "            date=attributes[0],\n",
    "            problem=attributes[1],\n",
    "            address=attributes[2],\n",
    "            location=attributes[3],\n",
    "            time=attributes[4]))\n",
    "    '''\n",
    "    # Uncommenting this section displays the first 50 items in the files.\n",
    "    print(geometry, attributes)\n",
    "    if i == 50:\n",
    "        break\n",
    "    '''\n",
    "    \n",
    "point_pattern = PointPattern()\n",
    "for point in points:\n",
    "    point_pattern.add_point(point)\n",
    "    \n",
    "c1, c2 = point_pattern.get_critical_points()\n",
    "#print(c1, c2)\n",
    "\n",
    "def is_significant(n):\n",
    "    if n < c1 or n > c2:\n",
    "        return 'is significant'\n",
    "    else:\n",
    "        return 'is not significant'\n",
    "\n",
    "nn = point_pattern.average_nearest_neighbor_distance_kdtree()\n",
    "print(\"The entire dataset has an average nearest neighbor distance of\", nn)\n",
    "print(\"The entire dataset\", is_significant(nn))\n",
    "\n",
    "nn = point_pattern.average_nearest_neighbor_distance_kdtree(mark_name='date', mark_value=' Sat, Sept. 13th 2014')\n",
    "print(\"\\nElements that occurred on 9/13/2014 have an average nn distance of\", nn)\n",
    "print(\"The date 9/13/2014\", is_significant(nn))\n",
    "\n",
    "nn = point_pattern.average_nearest_neighbor_distance_kdtree(mark_name='problem', mark_value='animal-bites')\n",
    "print(\"\\nElements involving animal bites have an average nn distance of\", nn)\n",
    "print(\"The animal bite issue\", is_significant(nn))"
   ]
  }
 ],
 "metadata": {
  "kernelspec": {
   "display_name": "Python 3",
   "language": "python",
   "name": "python3"
  },
  "language_info": {
   "codemirror_mode": {
    "name": "ipython",
    "version": 3
   },
   "file_extension": ".py",
   "mimetype": "text/x-python",
   "name": "python",
   "nbconvert_exporter": "python",
   "pygments_lexer": "ipython3",
   "version": "3.5.1"
  }
 },
 "nbformat": 4,
 "nbformat_minor": 0
}
