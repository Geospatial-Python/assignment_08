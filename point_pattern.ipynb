{
 "metadata": {
  "name": "Untitled1"
 },
 "nbformat": 3,
 "nbformat_minor": 0,
 "worksheets": [
  {
   "cells": [
    {
     "cell_type": "code",
     "collapsed": false,
     "input": [
      "from point_pattern import PointPattern\n",
      "from point  import Point\n",
      "from utils import *\n",
      "\n",
      "import pysal as ps\n",
      "\n",
      "shapefile = ps.open(ps.examples.get_path('new_haven_merged.shp'))\n",
      "dbf = ps.open(ps.examples.get_path('new_haven_merged.dbf'))\n",
      "\n",
      "point_list=[]\n",
      "\n",
      "for geometry, attributes in zip(shapefile, dbf):\n",
      "    point_list.append(Point(geometry[0],geometry[1],attributes[0]))\n",
      "\n",
      "ptp=PointPattern(point_list)\n",
      "\n",
      "# Run a few tests to explore the dataset.\n",
      "nn = ptp.average_nearest_neighbor_distance_KDTree()\n",
      "print('This dataset has a nearest neighbor distance of {}'.format(nn))\n",
      "# Use your monte carlo simulation code to see if the result is statistically significant\n",
      "\n",
      "smallest, largest = ptp.critical_points(ptp.permutations())\n",
      "\n",
      "if is_observed_distance_significant(smallest, largest, nn):\n",
      "    print('The mark is significant.')\n",
      "else:\n",
      "    print('The mark is not significant.')\n",
      "    \n",
      "nn = ptp.average_nearest_neighbor_distance_KDTree(' Thu, Sept. 18th 2014')\n",
      "print('This Thu, Sept. 18th 2014 has a nearest neighbor distance of {}'.format(nn))\n",
      "# Use your monte carlo simulation code to see if the result is statistically significant\n",
      "if is_observed_distance_significant(smallest, largest, nn):\n",
      "    print('The mark is significant.')\n",
      "else:\n",
      "    print('The mark is not significant.')\n",
      "\n",
      "    \n",
      "nn = ptp.average_nearest_neighbor_distance_KDTree(' Wed, Sept. 3rd 2014')\n",
      "print('This Wed, Sept. 3rd 2014 has a nearest neighbor distance of {}'.format(nn))\n",
      "# Use your monte carlo simulation code to see if the result is statistically significant\n",
      "if is_observed_distance_significant(smallest, largest, nn):\n",
      "    print('The mark is significant.')\n",
      "else:\n",
      "    print('The mark is not significant.')"
     ],
     "language": "python",
     "metadata": {},
     "outputs": [
      {
       "output_type": "stream",
       "stream": "stdout",
       "text": [
        "This dataset has a nearest neighbor distance of 0.000240361352928\n",
        "The mark is not significant."
       ]
      },
      {
       "output_type": "stream",
       "stream": "stdout",
       "text": [
        "\n",
        "This Thu, Sept. 18th 2014 has a nearest neighbor distance of 0.00259760178027\n",
        "The mark is significant.\n",
        "This Wed, Sept. 3rd 2014 has a nearest neighbor distance of 0.00189031697659"
       ]
      },
      {
       "output_type": "stream",
       "stream": "stdout",
       "text": [
        "\n",
        "The mark is significant.\n"
       ]
      }
     ],
     "prompt_number": 1
    },
    {
     "cell_type": "code",
     "collapsed": false,
     "input": [
      "compute_g = ptp.compute_g(10)\n",
      "print(compute_g)"
     ],
     "language": "python",
     "metadata": {},
     "outputs": [
      {
       "output_type": "stream",
       "stream": "stdout",
       "text": [
        "0.111111111111\n"
       ]
      }
     ],
     "prompt_number": 2
    },
    {
     "cell_type": "code",
     "collapsed": false,
     "input": [
      "new_point_list=[ point for point in point_list if point.mark==' Thu, Sept. 18th 2014']\n",
      "new_ptp=PointPattern(new_point_list)\n",
      "compute_g = new_ptp.compute_g(10)\n",
      "print(compute_g)\n",
      "\n",
      "new_point_list=[ point for point in point_list if point.mark==' Wed, Sept. 3rd 2014']\n",
      "new_ptp=PointPattern(new_point_list)\n",
      "compute_g = new_ptp.compute_g(10)\n",
      "print(compute_g)"
     ],
     "language": "python",
     "metadata": {},
     "outputs": [
      {
       "output_type": "stream",
       "stream": "stdout",
       "text": [
        "0.111111111111\n",
        "0.111111111111\n"
       ]
      }
     ],
     "prompt_number": 3
    },
    {
     "cell_type": "code",
     "collapsed": false,
     "input": [],
     "language": "python",
     "metadata": {},
     "outputs": []
    }
   ],
   "metadata": {}
  }
 ]
}