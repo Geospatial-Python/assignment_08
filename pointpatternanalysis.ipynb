In [38]:
from src.point_pattern import PointPattern
from src.point import Point
import pysal as ps

shapefile = ps.open(ps.examples.get_path('new_haven_merged.shp'))
dbf = ps.open(ps.examples.get_path('new_haven_merged.dbf'))

points= []
i = 0
for geometry, attributes in zip(shapefile, dbf):
    i += 1
    points.append(Point(
            geometry[0], 
            geometry[1], 
            date=attributes[0],
            problem=attributes[1],
            address=attributes[2],
            location=attributes[3],
            time=attributes[4]))
    '''
    # Uncommenting this section displays the first 50 items in the files.
    print(geometry, attributes)
    if i == 50:
        break
    '''
    
point_pattern = PointPattern()
for point in points:
    point_pattern.add_point(point)
    
c1, c2 = point_pattern.get_critical_points()
#print(c1, c2)

def is_significant(n):
    if n < c1 or n > c2:
        return 'is significant'
    else:
        return 'is not significant'

nn = point_pattern.average_nearest_neighbor_distance_kdtree()
print("The entire dataset has an average nearest neighbor distance of", nn)
print("The entire dataset", is_significant(nn))

nn = point_pattern.average_nearest_neighbor_distance_kdtree(mark_name='date', mark_value=' Sat, Sept. 13th 2014')
print("\nElements that occurred on 9/13/2014 have an average nn distance of", nn)
print("The date 9/13/2014", is_significant(nn))

nn = point_pattern.average_nearest_neighbor_distance_kdtree(mark_name='problem', mark_value='animal-bites')
print("\nElements involving animal bites have an average nn distance of", nn)
print("The animal bite issue", is_significant(nn))
