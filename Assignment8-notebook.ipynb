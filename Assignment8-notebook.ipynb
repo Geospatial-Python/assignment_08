{
 "cells": [
  {
   "cell_type": "code",
   "execution_count": 2,
   "metadata": {
    "collapsed": false
   },
   "outputs": [
    {
     "data": {
      "text/plain": [
       "<pysal.core.IOHandlers.pyShpIO.PurePyShpWrapper at 0x7fd32c203198>"
      ]
     },
     "execution_count": 2,
     "metadata": {},
     "output_type": "execute_result"
    }
   ],
   "source": [
    "from point import Point, PointPattern\n",
    "import pysal as ps\n",
    "\n",
    "shapefile = ps.open(ps.examples.get_path('new_haven_merged.shp'))\n",
    "shapefile\n"
   ]
  },
  {
   "cell_type": "code",
   "execution_count": 3,
   "metadata": {
    "collapsed": false
   },
   "outputs": [
    {
     "data": {
      "text/plain": [
       "DataTable: /home/qstin/anaconda3/lib/python3.5/site-packages/pysal/examples/newHaven/new_haven_merged.dbf"
      ]
     },
     "execution_count": 3,
     "metadata": {},
     "output_type": "execute_result"
    }
   ],
   "source": [
    "dbf = ps.open(ps.examples.get_path('new_haven_merged.dbf'))\n",
    "dbf"
   ]
  },
  {
   "cell_type": "code",
   "execution_count": 4,
   "metadata": {
    "collapsed": false
   },
   "outputs": [],
   "source": [
    "zipped_pp = PointPattern()\n",
    "\n",
    "for geometry, attributes in zip(shapefile, dbf):\n",
    "    zipped_pp.add_point(Point(geometry[0], geometry[1], attributes[1]))\n"
   ]
  },
  {
   "cell_type": "code",
   "execution_count": 5,
   "metadata": {
    "collapsed": false
   },
   "outputs": [
    {
     "name": "stdout",
     "output_type": "stream",
     "text": [
      "This average nearest neighbor for animal bites is: 0.01261354238016035\n"
     ]
    }
   ],
   "source": [
    "nn = zipped_pp.average_nearest_neighor_KDTree('animal-bites')\n",
    "print(\"This average nearest neighbor for animal bites is: {}\".format(nn))"
   ]
  },
  {
   "cell_type": "code",
   "execution_count": 6,
   "metadata": {
    "collapsed": false
   },
   "outputs": [],
   "source": [
    "crit_max, crit_min = PointPattern.get_critical(zipped_pp.generate_realizations())\n",
    "def is_sig(n):\n",
    "    if n < crit_min or n > crit_max:\n",
    "        return \"is significant!\"\n",
    "    else:\n",
    "        return \"is not significant.\""
   ]
  },
  {
   "cell_type": "code",
   "execution_count": 7,
   "metadata": {
    "collapsed": false
   },
   "outputs": [
    {
     "name": "stdout",
     "output_type": "stream",
     "text": [
      "The nearest neighbor of animal bites is significant!\n"
     ]
    }
   ],
   "source": [
    "print(\"The nearest neighbor of animal bites {}\".format(is_sig(nn)))"
   ]
  },
  {
   "cell_type": "code",
   "execution_count": 8,
   "metadata": {
    "collapsed": false
   },
   "outputs": [
    {
     "name": "stdout",
     "output_type": "stream",
     "text": [
      "The neareset neighbor of all data is significant!\n"
     ]
    }
   ],
   "source": [
    "nn_all = zipped_pp.average_nearest_neighor_KDTree()\n",
    "print(\"The neareset neighbor of all data {}\".format(is_sig(nn_all)))"
   ]
  },
  {
   "cell_type": "code",
   "execution_count": null,
   "metadata": {
    "collapsed": true
   },
   "outputs": [],
   "source": []
  }
 ],
 "metadata": {
  "kernelspec": {
   "display_name": "Python 3",
   "language": "python",
   "name": "python3"
  }
 },
 "nbformat": 4,
 "nbformat_minor": 0
}
